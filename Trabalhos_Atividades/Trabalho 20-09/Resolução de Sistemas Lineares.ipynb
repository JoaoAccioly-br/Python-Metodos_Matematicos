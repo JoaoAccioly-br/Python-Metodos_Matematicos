{
 "cells": [
  {
   "cell_type": "markdown",
   "metadata": {
    "id": "kF-3aFGgB2IZ"
   },
   "source": [
    "# Método de Gauss\n",
    "\n"
   ]
  },
  {
   "cell_type": "code",
   "execution_count": 2,
   "metadata": {
    "colab": {
     "base_uri": "https://localhost:8080/"
    },
    "executionInfo": {
     "elapsed": 37,
     "status": "ok",
     "timestamp": 1758296603306,
     "user": {
      "displayName": "João Accioly",
      "userId": "01041255257485699371"
     },
     "user_tz": 180
    },
    "id": "Kp16iDBuBx3L",
    "outputId": "13295f4d-1d5c-4059-c91c-9b799f722e36"
   },
   "outputs": [
    {
     "name": "stdout",
     "output_type": "stream",
     "text": [
      "Solução do sistema:\n",
      "x1 = 1.0\n",
      "x2 = 2.0\n",
      "x3 = 3.0\n"
     ]
    }
   ],
   "source": [
    "def gauss(A,b):\n",
    "  n = len(A)\n",
    "\n",
    "  # Etapa 1: Escalonamento (transformar em triangular superior)\n",
    "  for k in range(n-1):\n",
    "    # Percorre as linhas abaixo da linha pivô\n",
    "    for i in range(k+1,n):\n",
    "      m = A[i][k] / A[k][k]   # Multiplicador\n",
    "      for j in range(k,n):\n",
    "        A[i][j] = A[i][j] - m * A[k][j] # atualiza linha da matriz\n",
    "      b[i] = b[i] - m * b[k]            # atualiza termo independente\n",
    "\n",
    "  # Etapa 2: Retrossubstituição\n",
    "  x = [0] * n\n",
    "  # Última variável0\n",
    "  x[n-1] = b[n-1] / A[n-1][n-1]\n",
    "  # Demais variáveis\n",
    "  for i in range(n-2, -1, -1): # Começa da\n",
    "    soma = 0\n",
    "    for j in range(i+1, n):\n",
    "      soma += A[i][j] * x[j]\n",
    "    x[i] = (b[i] - soma) / A[i][i]\n",
    "  return x\n",
    "\n",
    "A = [\n",
    "     [1,2,-1],\n",
    "     [2,-1,3],\n",
    "     [3,3,-2]\n",
    "]\n",
    "\n",
    "b = [2,9,3]\n",
    "\n",
    "\n",
    "solucao = gauss(A,b)\n",
    "\n",
    "print(\"Solução do sistema:\")\n",
    "for i, val in enumerate(solucao):\n",
    "    print(f\"x{i+1} = {round(val, 4)}\")"
   ]
  },
  {
   "cell_type": "markdown",
   "metadata": {
    "id": "6XFRLtu-bmtS"
   },
   "source": [
    "# Método LU"
   ]
  },
  {
   "cell_type": "code",
   "execution_count": 6,
   "metadata": {
    "colab": {
     "base_uri": "https://localhost:8080/"
    },
    "executionInfo": {
     "elapsed": 25,
     "status": "ok",
     "timestamp": 1758302201231,
     "user": {
      "displayName": "João Accioly",
      "userId": "01041255257485699371"
     },
     "user_tz": 180
    },
    "id": "dHMRIinRFNN4",
    "outputId": "26b5649e-3b91-4ce6-9f57-1b06e6be6634"
   },
   "outputs": [
    {
     "name": "stdout",
     "output_type": "stream",
     "text": [
      "Solução do sistema:\n",
      "x1 = 2.0\n",
      "x2 = -1.0\n",
      "x3 = 3.0\n",
      "\n",
      "Matriz L:\n",
      "[1.0, 0.0, 0.0]\n",
      "[2.0, 1.0, 0.0]\n",
      "[3.0, 1.0, 1.0]\n",
      "\n",
      "Matriz U:\n",
      "[1, 2, 1]\n",
      "[0.0, -7.0, -3.0]\n",
      "[0.0, 0.0, -2.0]\n"
     ]
    }
   ],
   "source": [
    "def Decomposicao_LU(matriz, b):\n",
    "    NL = len(matriz)  # Número de linhas\n",
    "    NC = len(matriz[0])  # Número de colunas\n",
    "\n",
    "    A = [linha[:] for linha in matriz]  # Cópia da matriz original\n",
    "\n",
    "    L = [[0.0 for _ in range(NC)] for _ in range(NL)]\n",
    "    U = [linha[:] for linha in matriz]  # Começa com A, vai virar U\n",
    "\n",
    "    # Método de eliminação de Gauss para obter L e U\n",
    "    for i in range(NL):\n",
    "        L[i][i] = 1.0  # Diagonal principal de L com 1\n",
    "\n",
    "        for k in range(i + 1, NL):\n",
    "            m = U[k][i] / U[i][i]  # Multiplicador\n",
    "            L[k][i] = m  # Guardando o multiplicador em L\n",
    "\n",
    "            for j in range(i, NC):\n",
    "                U[k][j] = U[k][j] - m * U[i][j]  # Atualizando U\n",
    "\n",
    "    # Resolvendo Ly = b (substituição direta)\n",
    "    y = [0.0 for _ in range(NL)]\n",
    "    for i in range(NL):\n",
    "        soma = sum(L[i][j] * y[j] for j in range(i))\n",
    "        y[i] = b[i] - soma\n",
    "\n",
    "    # Resolvendo Ux = y (substituição retroativa)\n",
    "    x = [0.0 for _ in range(NL)]\n",
    "    for i in reversed(range(NL)):\n",
    "        soma = sum(U[i][j] * x[j] for j in range(i + 1, NC))\n",
    "        x[i] = (y[i] - soma) / U[i][i]\n",
    "\n",
    "    return x, L, U\n",
    "\n",
    "A = [\n",
    "    [1,2,1],\n",
    "    [2,-3,-1],\n",
    "    [3,-1,-2]\n",
    "]\n",
    "b = [3,4,1]\n",
    "\n",
    "solucao, L, U = Decomposicao_LU(A, b)\n",
    "\n",
    "print(\"Solução do sistema:\")\n",
    "for i, val in enumerate(solucao):\n",
    "    print(f\"x{i+1} = {round(val, 4)}\")\n",
    "\n",
    "print(\"\\nMatriz L:\")\n",
    "for linha in L:\n",
    "    print(linha)\n",
    "\n",
    "print(\"\\nMatriz U:\")\n",
    "for linha in U:\n",
    "    print(linha)"
   ]
  },
  {
   "cell_type": "markdown",
   "metadata": {
    "id": "ag9nJAWfudTh"
   },
   "source": [
    "# Método Jacobi"
   ]
  },
  {
   "cell_type": "code",
   "execution_count": null,
   "metadata": {
    "id": "g-eSucaPudxc"
   },
   "outputs": [],
   "source": [
    "def metodo_jacobi(matriz, b, TOL = 0.05, N_MAX = 20):\n",
    "  NL = len(matriz)  #número de linhas\n",
    "  NC = len(matriz[0]) #número de colunas\n",
    "\n",
    "  x0 = [0.0 for _ in range(NL)] #Cria inicialização do vetor x0\n",
    "  xk = [0.0 for _ in range(NL)] #Cria inicialização do vetor xk\n",
    "\n",
    "  for k in range(N_MAX):\n",
    "    for i in range(NL):\n",
    "      soma = 0.0\n",
    "      for j in range(NC):\n",
    "        if j != i:\n",
    "          soma = soma + matriz[i][j] * x0[j]\n",
    "      xk[i] = (b[i] - soma) / matriz[i][i]\n",
    "\n",
    "    numerador = max(abs(xk[i] - x0[i]) for i in range(NL)) # Cálculo do numerador\n",
    "    denominador = max(max(abs(xk[i]) for i in range(NL)), 1e-10) # Cálculo do denominador com prevenção de divisão por zero\n",
    "\n",
    "    if numerador / denominador < TOL: # Comparação com a tolerância\n",
    "      return xk\n",
    "\n",
    "    x0 = xk[:]\n",
    "  return xk\n",
    "\n",
    "A = [\n",
    "    [10, 2, -3, 2],\n",
    "    [2, -15, 3, -2],\n",
    "    [1, -3, 20, 2],\n",
    "    [2, 2, -1, 30]\n",
    "]\n",
    "b = [32, -59, -38, 160]\n",
    "\n",
    "\n",
    "solucao = metodo_jacobi(A,b)\n",
    "print(\"Solução do sistema:\") # Imprime a solução\n",
    "for i, val in enumerate(solucao):\n",
    "    print(f\"x{i+1} = {round(val, 4)}\") # Arredonda para 4 casas decimais"
   ]
  },
  {
   "cell_type": "markdown",
   "metadata": {
    "id": "eL6fV-E7dVcA"
   },
   "source": [
    "# Método de Gauss-Seidel"
   ]
  },
  {
   "cell_type": "code",
   "execution_count": null,
   "metadata": {
    "id": "F0G30lRMdZ5D"
   },
   "outputs": [
    {
     "ename": "",
     "evalue": "",
     "output_type": "error",
     "traceback": [
      "\u001b[1;31mRunning cells with 'Python 3.13.2' requires the ipykernel package.\n",
      "\u001b[1;31m<a href='command:jupyter.createPythonEnvAndSelectController'>Create a Python Environment</a> with the required packages."
     ]
    }
   ],
   "source": [
    "def Metodo_Gauss_Seidel (matriz, b, TOL=0.005, N_MAX=200):\n",
    "  NL = len(matriz) #número de linhas\n",
    "  NC = len(matriz[0]) #número de colunas\n",
    "\n",
    "  xk = [0.00 for _ in range(NL)] # Cria inicialização do vetor xk\n",
    "  x0 = [0.00 for _ in range(NL)] # Cria inicialização do vetor x0\n",
    "\n",
    "  A = [linha[:] for linha in matriz] # Cópia da matriz original\n",
    "\n",
    "\n",
    "  for k in range(N_MAX):\n",
    "    for i in range(NL):\n",
    "      soma = 0.0\n",
    "      for j in range(i):\n",
    "        soma = soma - (A[i][j] / A[i][i]) * xk[j]\n",
    "      for j in range(i + 1,NC):\n",
    "        soma = soma - (A[i][j] / A[i][i]) * x0[j]\n",
    "      xk[i] = soma + b[i] / A[i][i]\n",
    "\n",
    "      numerador = max(abs(xk[i] - x0[i]) for i in range (NL))\n",
    "      denominador = max(max(abs(xk[i]) for i in range(NL)), 1e-10)\n",
    "\n",
    "    if numerador/denominador < TOL:\n",
    "       return xk\n",
    "    x0 = xk[:]\n",
    "  return xk\n",
    "\n",
    "\n",
    "A = [\n",
    "    [10, 2, -3, 2],\n",
    "    [2, -15, 3, -2],\n",
    "    [1, -3, 20, 2],\n",
    "    [2, 2, -1, 30]\n",
    "]\n",
    "b = [32, -59, -38, 160]\n",
    "\n",
    "solucao = Metodo_Gauss_Seidel(A,b)\n",
    "print(\"Solução do sistema:\")\n",
    "for i, val in enumerate(solucao):\n",
    "    print(f\"x{i+1} = {round(val, 4)}\")\n",
    "\n"
   ]
  }
 ],
 "metadata": {
  "colab": {
   "authorship_tag": "ABX9TyNdmY1PttX6RF+ORS/YqU68",
   "provenance": []
  },
  "kernelspec": {
   "display_name": "Python 3",
   "name": "python3"
  },
  "language_info": {
   "name": "python",
   "version": "3.13.2"
  }
 },
 "nbformat": 4,
 "nbformat_minor": 0
}
